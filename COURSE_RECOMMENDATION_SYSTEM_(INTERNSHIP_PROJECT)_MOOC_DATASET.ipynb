{
  "nbformat": 4,
  "nbformat_minor": 0,
  "metadata": {
    "colab": {
      "provenance": []
    },
    "kernelspec": {
      "name": "python3",
      "display_name": "Python 3"
    },
    "language_info": {
      "name": "python"
    }
  },
  "cells": [
    {
      "cell_type": "code",
      "execution_count": null,
      "metadata": {
        "id": "3_NELyjyW4qd"
      },
      "outputs": [],
      "source": [
        "import pandas as pd\n",
        "from sklearn.feature_extraction.text import CountVectorizer\n",
        "from sklearn.metrics.pairwise import cosine_similarity\n",
        "import nltk\n",
        "from nltk.stem.porter import PorterStemmer\n",
        "import zipfile"
      ]
    },
    {
      "cell_type": "markdown",
      "source": [
        "Unzipping the dataset"
      ],
      "metadata": {
        "id": "IhH8US2JZPF5"
      }
    },
    {
      "cell_type": "code",
      "source": [
        "with zipfile.ZipFile(\"/content/MOOC.csv (1).zip\", 'r') as zip_ref:\n",
        "    zip_ref.extractall(\"/content/\")"
      ],
      "metadata": {
        "id": "VRXL4TgpW6cw"
      },
      "execution_count": null,
      "outputs": []
    },
    {
      "cell_type": "markdown",
      "source": [
        "Reading the CSV file with specified encoding"
      ],
      "metadata": {
        "id": "79FBFIwKZLHw"
      }
    },
    {
      "cell_type": "code",
      "source": [
        "data = pd.read_csv(\"/content/MOOC.csv\", encoding='ISO-8859-1')"
      ],
      "metadata": {
        "id": "w3R10BNXXJg-"
      },
      "execution_count": null,
      "outputs": []
    },
    {
      "cell_type": "markdown",
      "source": [
        "Selecting the necessary columns"
      ],
      "metadata": {
        "id": "8VVP3JLIZG3F"
      }
    },
    {
      "cell_type": "code",
      "source": [
        "data = data[['Course Name', 'Difficulty Level', 'Course Rating', 'Course Description', 'all_skill']]"
      ],
      "metadata": {
        "id": "-8w8mACNXNv9"
      },
      "execution_count": null,
      "outputs": []
    },
    {
      "cell_type": "markdown",
      "source": [
        "Function to clean text"
      ],
      "metadata": {
        "id": "fE8IV9fxZDFX"
      }
    },
    {
      "cell_type": "code",
      "source": [
        "def clean_text(text):\n",
        "    if isinstance(text, str):\n",
        "        text = text.replace(' ', ',')\n",
        "        text = text.replace(',,', ',')\n",
        "        text = text.replace(':', '')\n",
        "        text = text.replace('(', '')\n",
        "        text = text.replace(')', '')\n",
        "        text = text.replace('_', '')\n",
        "    return text"
      ],
      "metadata": {
        "id": "CqENdLhjXSob"
      },
      "execution_count": null,
      "outputs": []
    },
    {
      "cell_type": "markdown",
      "source": [
        "Applying the clean_text function and handling NaN values"
      ],
      "metadata": {
        "id": "JZ7Dnqe_Y9cv"
      }
    },
    {
      "cell_type": "code",
      "source": [
        "data['Course Name'] = data['Course Name'].apply(clean_text)\n",
        "data['Course Description'] = data['Course Description'].fillna('').apply(clean_text)\n",
        "data['all_skill'] = data['all_skill'].fillna('').str.replace('(', '').str.replace(')', '')"
      ],
      "metadata": {
        "id": "FRJOjc0ZXW4K"
      },
      "execution_count": null,
      "outputs": []
    },
    {
      "cell_type": "markdown",
      "source": [
        "Creating the 'tags' column"
      ],
      "metadata": {
        "id": "r8JrwEgFY5oD"
      }
    },
    {
      "cell_type": "code",
      "source": [
        "data['tags'] = data['Course Name'] + data['Difficulty Level'] + data['Course Description'] + data['all_skill']"
      ],
      "metadata": {
        "id": "DixO82NPXb93"
      },
      "execution_count": null,
      "outputs": []
    },
    {
      "cell_type": "markdown",
      "source": [
        "Preparing the dataframe for vectorization"
      ],
      "metadata": {
        "id": "ssxEk7TzY1nY"
      }
    },
    {
      "cell_type": "code",
      "source": [
        "new_df = data[['Course Name', 'tags']]\n",
        "new_df['tags'] = new_df['tags'].str.replace(',', ' ')\n",
        "new_df['Course Name'] = new_df['Course Name'].str.replace(',', ' ')\n",
        "new_df.rename(columns={'Course Name': 'course_name'}, inplace=True)\n",
        "new_df['tags'] = new_df['tags'].fillna('').apply(lambda x: x.lower() if isinstance(x, str) else '')"
      ],
      "metadata": {
        "colab": {
          "base_uri": "https://localhost:8080/"
        },
        "id": "Bk3hQm-uXf5D",
        "outputId": "d048c64b-cdd0-461a-fe02-aa77de8673f8"
      },
      "execution_count": null,
      "outputs": [
        {
          "output_type": "stream",
          "name": "stderr",
          "text": [
            "<ipython-input-9-67935f18687c>:2: SettingWithCopyWarning: \n",
            "A value is trying to be set on a copy of a slice from a DataFrame.\n",
            "Try using .loc[row_indexer,col_indexer] = value instead\n",
            "\n",
            "See the caveats in the documentation: https://pandas.pydata.org/pandas-docs/stable/user_guide/indexing.html#returning-a-view-versus-a-copy\n",
            "  new_df['tags'] = new_df['tags'].str.replace(',', ' ')\n",
            "<ipython-input-9-67935f18687c>:3: SettingWithCopyWarning: \n",
            "A value is trying to be set on a copy of a slice from a DataFrame.\n",
            "Try using .loc[row_indexer,col_indexer] = value instead\n",
            "\n",
            "See the caveats in the documentation: https://pandas.pydata.org/pandas-docs/stable/user_guide/indexing.html#returning-a-view-versus-a-copy\n",
            "  new_df['Course Name'] = new_df['Course Name'].str.replace(',', ' ')\n",
            "<ipython-input-9-67935f18687c>:4: SettingWithCopyWarning: \n",
            "A value is trying to be set on a copy of a slice from a DataFrame\n",
            "\n",
            "See the caveats in the documentation: https://pandas.pydata.org/pandas-docs/stable/user_guide/indexing.html#returning-a-view-versus-a-copy\n",
            "  new_df.rename(columns={'Course Name': 'course_name'}, inplace=True)\n",
            "<ipython-input-9-67935f18687c>:5: SettingWithCopyWarning: \n",
            "A value is trying to be set on a copy of a slice from a DataFrame.\n",
            "Try using .loc[row_indexer,col_indexer] = value instead\n",
            "\n",
            "See the caveats in the documentation: https://pandas.pydata.org/pandas-docs/stable/user_guide/indexing.html#returning-a-view-versus-a-copy\n",
            "  new_df['tags'] = new_df['tags'].fillna('').apply(lambda x: x.lower() if isinstance(x, str) else '')\n"
          ]
        }
      ]
    },
    {
      "cell_type": "markdown",
      "source": [
        "Vectorizing the text"
      ],
      "metadata": {
        "id": "eFHsXpRhYv-M"
      }
    },
    {
      "cell_type": "code",
      "source": [
        "cv = CountVectorizer(max_features=5000, stop_words='english')\n",
        "vectors = cv.fit_transform(new_df['tags']).toarray()"
      ],
      "metadata": {
        "id": "m5IHFG9-XlnY"
      },
      "execution_count": null,
      "outputs": []
    },
    {
      "cell_type": "markdown",
      "source": [
        "Downloading necessary NLTK data"
      ],
      "metadata": {
        "id": "eTURqRhYYqy5"
      }
    },
    {
      "cell_type": "code",
      "source": [
        "nltk.download('punkt')\n",
        "ps = PorterStemmer()"
      ],
      "metadata": {
        "colab": {
          "base_uri": "https://localhost:8080/"
        },
        "id": "4IFCkljbXpok",
        "outputId": "d892c725-8211-424f-bc57-f70c0a18927d"
      },
      "execution_count": null,
      "outputs": [
        {
          "output_type": "stream",
          "name": "stderr",
          "text": [
            "[nltk_data] Downloading package punkt to /root/nltk_data...\n",
            "[nltk_data]   Unzipping tokenizers/punkt.zip.\n"
          ]
        }
      ]
    },
    {
      "cell_type": "markdown",
      "source": [
        "Function to stem the text"
      ],
      "metadata": {
        "id": "wLnc3wg_YmiL"
      }
    },
    {
      "cell_type": "code",
      "source": [
        "def stem(text):\n",
        "    y = [ps.stem(word) for word in text.split()]\n",
        "    return \" \".join(y)"
      ],
      "metadata": {
        "id": "Fh-bP3H5Xtaz"
      },
      "execution_count": null,
      "outputs": []
    },
    {
      "cell_type": "markdown",
      "source": [
        "Applying the stem function to the 'tags' column"
      ],
      "metadata": {
        "id": "eA6l8MGsYiIh"
      }
    },
    {
      "cell_type": "code",
      "source": [
        "new_df['tags'] = new_df['tags'].apply(stem)"
      ],
      "metadata": {
        "colab": {
          "base_uri": "https://localhost:8080/"
        },
        "id": "FEPKeSAYXySW",
        "outputId": "96db3867-4113-4416-e9ce-205c62faaba3"
      },
      "execution_count": null,
      "outputs": [
        {
          "output_type": "stream",
          "name": "stderr",
          "text": [
            "<ipython-input-13-be18a4346d89>:1: SettingWithCopyWarning: \n",
            "A value is trying to be set on a copy of a slice from a DataFrame.\n",
            "Try using .loc[row_indexer,col_indexer] = value instead\n",
            "\n",
            "See the caveats in the documentation: https://pandas.pydata.org/pandas-docs/stable/user_guide/indexing.html#returning-a-view-versus-a-copy\n",
            "  new_df['tags'] = new_df['tags'].apply(stem)\n"
          ]
        }
      ]
    },
    {
      "cell_type": "markdown",
      "source": [
        "Calculating cosine similarity"
      ],
      "metadata": {
        "id": "PINKKTGbYcG1"
      }
    },
    {
      "cell_type": "code",
      "source": [
        "similarity = cosine_similarity(vectors)"
      ],
      "metadata": {
        "id": "3ONLORNgX1fp"
      },
      "execution_count": null,
      "outputs": []
    },
    {
      "cell_type": "markdown",
      "source": [
        "Function to recommend courses"
      ],
      "metadata": {
        "id": "-pEGQpQWYVoh"
      }
    },
    {
      "cell_type": "code",
      "source": [
        "def recommend(course):\n",
        "    course_index = new_df[new_df['course_name'] == course].index[0]\n",
        "    distances = similarity[course_index]\n",
        "    course_list = sorted(list(enumerate(distances)), reverse=True, key=lambda x: x[1])[1:7]\n",
        "\n",
        "    for i in course_list:\n",
        "        print(new_df.iloc[i[0]].course_name)"
      ],
      "metadata": {
        "id": "DHYfKRG2X91Z"
      },
      "execution_count": null,
      "outputs": []
    },
    {
      "cell_type": "markdown",
      "source": [
        "Testing the recommend function"
      ],
      "metadata": {
        "id": "jFMTX1_xYRYv"
      }
    },
    {
      "cell_type": "code",
      "source": [
        "recommend('Business Strategy Business Model Canvas Analysis with Miro')"
      ],
      "metadata": {
        "colab": {
          "base_uri": "https://localhost:8080/"
        },
        "id": "4Ad32ed_YDy1",
        "outputId": "50dc4719-3954-4eeb-aff2-6d5c18c14880"
      },
      "execution_count": null,
      "outputs": [
        {
          "output_type": "stream",
          "name": "stdout",
          "text": [
            "Product Development Customer Persona Development with Miro\n",
            "Product and Service Development Empathy Mapping with Miro\n",
            "Product Development Customer Journey Mapping with Miro\n",
            "Analyzing Macro-Environmental Factors Using Creately\n",
            "Business Strategy in Practice Project-centered Course\n",
            "Innovating with the Business Model Canvas\n"
          ]
        }
      ]
    },
    {
      "cell_type": "code",
      "source": [
        "recommend('Build a Twitter Clone Backend')"
      ],
      "metadata": {
        "colab": {
          "base_uri": "https://localhost:8080/"
        },
        "id": "3cLrCtdIZanb",
        "outputId": "e989e547-abd8-46b8-8368-0bc9e1eb94c9"
      },
      "execution_count": null,
      "outputs": [
        {
          "output_type": "stream",
          "name": "stdout",
          "text": [
            "Introduction to Front-end Development with ReactJS\n",
            "Getting Started with Blazor WASM\n",
            "Creating a Personal Site with Gatsby\n",
            "Getting Started with ASP.NET Core Razor Pages\n",
            "Build local development environments using Docker containers\n",
            "Project Creating Your First C++ Application\n"
          ]
        }
      ]
    },
    {
      "cell_type": "code",
      "source": [
        "recommend('Introduction to Python')"
      ],
      "metadata": {
        "colab": {
          "base_uri": "https://localhost:8080/"
        },
        "id": "ebaV5tjMbbba",
        "outputId": "af2180d4-00d0-4937-c82a-e9c4f1d73fd4"
      },
      "execution_count": null,
      "outputs": [
        {
          "output_type": "stream",
          "name": "stdout",
          "text": [
            "Python Basics Create a Guessing Number Game from Scratch\n",
            "Create Your First Python Program\n",
            "Create Your First Game with Python\n",
            "Build a Guessing Game Application using Java\n",
            "Create an interactive fiction adventure game with Python\n",
            "Create Your First Web App with Python and Flask\n"
          ]
        }
      ]
    },
    {
      "cell_type": "markdown",
      "source": [
        "Saving the model"
      ],
      "metadata": {
        "id": "YvSoBTcpYPoN"
      }
    },
    {
      "cell_type": "code",
      "source": [
        "import pickle\n",
        "with open('course_recommender.pkl', 'wb') as file:\n",
        "    pickle.dump(similarity, file)"
      ],
      "metadata": {
        "id": "9mHCxU8vYH5q"
      },
      "execution_count": null,
      "outputs": []
    }
  ]
}